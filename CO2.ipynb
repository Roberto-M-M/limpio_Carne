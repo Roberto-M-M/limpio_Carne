{
 "cells": [
  {
   "cell_type": "code",
   "execution_count": 1,
   "id": "6fcdc214",
   "metadata": {},
   "outputs": [
    {
     "data": {
      "text/html": [
       "<div>\n",
       "<style scoped>\n",
       "    .dataframe tbody tr th:only-of-type {\n",
       "        vertical-align: middle;\n",
       "    }\n",
       "\n",
       "    .dataframe tbody tr th {\n",
       "        vertical-align: top;\n",
       "    }\n",
       "\n",
       "    .dataframe thead th {\n",
       "        text-align: right;\n",
       "    }\n",
       "</style>\n",
       "<table border=\"1\" class=\"dataframe\">\n",
       "  <thead>\n",
       "    <tr style=\"text-align: right;\">\n",
       "      <th></th>\n",
       "      <th>Entity</th>\n",
       "      <th>Code</th>\n",
       "      <th>Year</th>\n",
       "      <th>Annual COâ emissions (per capita)</th>\n",
       "    </tr>\n",
       "  </thead>\n",
       "  <tbody>\n",
       "    <tr>\n",
       "      <th>0</th>\n",
       "      <td>Afghanistan</td>\n",
       "      <td>AFG</td>\n",
       "      <td>1949</td>\n",
       "      <td>0.001992</td>\n",
       "    </tr>\n",
       "    <tr>\n",
       "      <th>1</th>\n",
       "      <td>Afghanistan</td>\n",
       "      <td>AFG</td>\n",
       "      <td>1950</td>\n",
       "      <td>0.011266</td>\n",
       "    </tr>\n",
       "    <tr>\n",
       "      <th>2</th>\n",
       "      <td>Afghanistan</td>\n",
       "      <td>AFG</td>\n",
       "      <td>1951</td>\n",
       "      <td>0.012098</td>\n",
       "    </tr>\n",
       "    <tr>\n",
       "      <th>3</th>\n",
       "      <td>Afghanistan</td>\n",
       "      <td>AFG</td>\n",
       "      <td>1952</td>\n",
       "      <td>0.011946</td>\n",
       "    </tr>\n",
       "    <tr>\n",
       "      <th>4</th>\n",
       "      <td>Afghanistan</td>\n",
       "      <td>AFG</td>\n",
       "      <td>1953</td>\n",
       "      <td>0.013685</td>\n",
       "    </tr>\n",
       "    <tr>\n",
       "      <th>...</th>\n",
       "      <td>...</td>\n",
       "      <td>...</td>\n",
       "      <td>...</td>\n",
       "      <td>...</td>\n",
       "    </tr>\n",
       "    <tr>\n",
       "      <th>26595</th>\n",
       "      <td>Zimbabwe</td>\n",
       "      <td>ZWE</td>\n",
       "      <td>2018</td>\n",
       "      <td>0.711830</td>\n",
       "    </tr>\n",
       "    <tr>\n",
       "      <th>26596</th>\n",
       "      <td>Zimbabwe</td>\n",
       "      <td>ZWE</td>\n",
       "      <td>2019</td>\n",
       "      <td>0.636645</td>\n",
       "    </tr>\n",
       "    <tr>\n",
       "      <th>26597</th>\n",
       "      <td>Zimbabwe</td>\n",
       "      <td>ZWE</td>\n",
       "      <td>2020</td>\n",
       "      <td>0.500945</td>\n",
       "    </tr>\n",
       "    <tr>\n",
       "      <th>26598</th>\n",
       "      <td>Zimbabwe</td>\n",
       "      <td>ZWE</td>\n",
       "      <td>2021</td>\n",
       "      <td>0.524972</td>\n",
       "    </tr>\n",
       "    <tr>\n",
       "      <th>26599</th>\n",
       "      <td>Zimbabwe</td>\n",
       "      <td>ZWE</td>\n",
       "      <td>2022</td>\n",
       "      <td>0.542628</td>\n",
       "    </tr>\n",
       "  </tbody>\n",
       "</table>\n",
       "<p>26600 rows × 4 columns</p>\n",
       "</div>"
      ],
      "text/plain": [
       "            Entity Code  Year  Annual COâ emissions (per capita)\n",
       "0      Afghanistan  AFG  1949                             0.001992\n",
       "1      Afghanistan  AFG  1950                             0.011266\n",
       "2      Afghanistan  AFG  1951                             0.012098\n",
       "3      Afghanistan  AFG  1952                             0.011946\n",
       "4      Afghanistan  AFG  1953                             0.013685\n",
       "...            ...  ...   ...                                  ...\n",
       "26595     Zimbabwe  ZWE  2018                             0.711830\n",
       "26596     Zimbabwe  ZWE  2019                             0.636645\n",
       "26597     Zimbabwe  ZWE  2020                             0.500945\n",
       "26598     Zimbabwe  ZWE  2021                             0.524972\n",
       "26599     Zimbabwe  ZWE  2022                             0.542628\n",
       "\n",
       "[26600 rows x 4 columns]"
      ]
     },
     "execution_count": 1,
     "metadata": {},
     "output_type": "execute_result"
    }
   ],
   "source": [
    "import pandas as pd\n",
    "url = \"https://raw.githubusercontent.com/Roberto-M-M/carne/main/co-emissions-per-capita.csv\"\n",
    "datos_csv = pd.read_csv(url, encoding='latin1')\n",
    "datos_csv"
   ]
  },
  {
   "cell_type": "code",
   "execution_count": 2,
   "id": "3f989a97",
   "metadata": {},
   "outputs": [
    {
     "data": {
      "text/html": [
       "<div>\n",
       "<style scoped>\n",
       "    .dataframe tbody tr th:only-of-type {\n",
       "        vertical-align: middle;\n",
       "    }\n",
       "\n",
       "    .dataframe tbody tr th {\n",
       "        vertical-align: top;\n",
       "    }\n",
       "\n",
       "    .dataframe thead th {\n",
       "        text-align: right;\n",
       "    }\n",
       "</style>\n",
       "<table border=\"1\" class=\"dataframe\">\n",
       "  <thead>\n",
       "    <tr style=\"text-align: right;\">\n",
       "      <th></th>\n",
       "      <th>Entity</th>\n",
       "      <th>Code</th>\n",
       "      <th>Year</th>\n",
       "      <th>Annual COâ emissions (per capita)</th>\n",
       "    </tr>\n",
       "  </thead>\n",
       "  <tbody>\n",
       "    <tr>\n",
       "      <th>0</th>\n",
       "      <td>Afghanistan</td>\n",
       "      <td>AFG</td>\n",
       "      <td>1949</td>\n",
       "      <td>0.001992</td>\n",
       "    </tr>\n",
       "    <tr>\n",
       "      <th>1</th>\n",
       "      <td>Afghanistan</td>\n",
       "      <td>AFG</td>\n",
       "      <td>1950</td>\n",
       "      <td>0.011266</td>\n",
       "    </tr>\n",
       "    <tr>\n",
       "      <th>2</th>\n",
       "      <td>Afghanistan</td>\n",
       "      <td>AFG</td>\n",
       "      <td>1951</td>\n",
       "      <td>0.012098</td>\n",
       "    </tr>\n",
       "    <tr>\n",
       "      <th>3</th>\n",
       "      <td>Afghanistan</td>\n",
       "      <td>AFG</td>\n",
       "      <td>1952</td>\n",
       "      <td>0.011946</td>\n",
       "    </tr>\n",
       "    <tr>\n",
       "      <th>4</th>\n",
       "      <td>Afghanistan</td>\n",
       "      <td>AFG</td>\n",
       "      <td>1953</td>\n",
       "      <td>0.013685</td>\n",
       "    </tr>\n",
       "  </tbody>\n",
       "</table>\n",
       "</div>"
      ],
      "text/plain": [
       "        Entity Code  Year  Annual COâ emissions (per capita)\n",
       "0  Afghanistan  AFG  1949                             0.001992\n",
       "1  Afghanistan  AFG  1950                             0.011266\n",
       "2  Afghanistan  AFG  1951                             0.012098\n",
       "3  Afghanistan  AFG  1952                             0.011946\n",
       "4  Afghanistan  AFG  1953                             0.013685"
      ]
     },
     "execution_count": 2,
     "metadata": {},
     "output_type": "execute_result"
    }
   ],
   "source": [
    "datos_csv.head() #Ver de forma mas ordenada"
   ]
  },
  {
   "cell_type": "code",
   "execution_count": 3,
   "id": "0625cfbe",
   "metadata": {},
   "outputs": [
    {
     "data": {
      "text/plain": [
       "26600"
      ]
     },
     "execution_count": 3,
     "metadata": {},
     "output_type": "execute_result"
    }
   ],
   "source": [
    "len(datos_csv) #cuantos datos tengo"
   ]
  },
  {
   "cell_type": "code",
   "execution_count": 4,
   "id": "4537a126",
   "metadata": {},
   "outputs": [
    {
     "name": "stdout",
     "output_type": "stream",
     "text": [
      "Número de filas por columna:\n",
      "26600\n"
     ]
    }
   ],
   "source": [
    "num_filas_por_columna = len(datos_csv)\n",
    "print(\"Número de filas por columna:\")\n",
    "print(num_filas_por_columna) #cuantos datos tengo en cada columna"
   ]
  },
  {
   "cell_type": "code",
   "execution_count": 5,
   "id": "d55b73c3",
   "metadata": {},
   "outputs": [
    {
     "data": {
      "text/plain": [
       "Entity                                  object\n",
       "Code                                    object\n",
       "Year                                     int64\n",
       "Annual COâ emissions (per capita)    float64\n",
       "dtype: object"
      ]
     },
     "execution_count": 5,
     "metadata": {},
     "output_type": "execute_result"
    }
   ],
   "source": [
    "datos_csv.dtypes  #podemos ver todas las columnas y el tipo de dato que contiene"
   ]
  },
  {
   "cell_type": "code",
   "execution_count": 7,
   "id": "6436b7c9",
   "metadata": {},
   "outputs": [
    {
     "data": {
      "text/plain": [
       "Entity                                 0\n",
       "Code                                   0\n",
       "Year                                   0\n",
       "Annual COâ emissions (per capita)    0\n",
       "dtype: int64"
      ]
     },
     "execution_count": 7,
     "metadata": {},
     "output_type": "execute_result"
    }
   ],
   "source": [
    "datos_csv.isna().sum() #datos faltantes"
   ]
  },
  {
   "cell_type": "markdown",
   "id": "05acf96b",
   "metadata": {},
   "source": [
    "Por lo que se ve no tiene datos faltantes el data set"
   ]
  },
  {
   "cell_type": "code",
   "execution_count": 14,
   "id": "a48507f9",
   "metadata": {},
   "outputs": [
    {
     "data": {
      "text/plain": [
       "Entity                                   231\n",
       "Code                                     216\n",
       "Year                                     228\n",
       "Annual COâ emissions (per capita)    24409\n",
       "dtype: int64"
      ]
     },
     "execution_count": 14,
     "metadata": {},
     "output_type": "execute_result"
    }
   ],
   "source": [
    "#Primero podemos inspeccionar si hay valores únicos con el siguiente comando:\n",
    "\n",
    "datos_csv.nunique()"
   ]
  },
  {
   "cell_type": "markdown",
   "id": "823e48e7",
   "metadata": {},
   "source": [
    "Cambiamos el nombre de la columna \"Annual COâ emissions (per capita)\" para trabajar mas facil"
   ]
  },
  {
   "cell_type": "code",
   "execution_count": 15,
   "id": "d7212ab0",
   "metadata": {},
   "outputs": [
    {
     "data": {
      "text/html": [
       "<div>\n",
       "<style scoped>\n",
       "    .dataframe tbody tr th:only-of-type {\n",
       "        vertical-align: middle;\n",
       "    }\n",
       "\n",
       "    .dataframe tbody tr th {\n",
       "        vertical-align: top;\n",
       "    }\n",
       "\n",
       "    .dataframe thead th {\n",
       "        text-align: right;\n",
       "    }\n",
       "</style>\n",
       "<table border=\"1\" class=\"dataframe\">\n",
       "  <thead>\n",
       "    <tr style=\"text-align: right;\">\n",
       "      <th></th>\n",
       "      <th>Entity</th>\n",
       "      <th>Code</th>\n",
       "      <th>Year</th>\n",
       "      <th>Emisiones de CO2</th>\n",
       "    </tr>\n",
       "  </thead>\n",
       "  <tbody>\n",
       "    <tr>\n",
       "      <th>0</th>\n",
       "      <td>Afghanistan</td>\n",
       "      <td>AFG</td>\n",
       "      <td>1949</td>\n",
       "      <td>0.001992</td>\n",
       "    </tr>\n",
       "    <tr>\n",
       "      <th>1</th>\n",
       "      <td>Afghanistan</td>\n",
       "      <td>AFG</td>\n",
       "      <td>1950</td>\n",
       "      <td>0.011266</td>\n",
       "    </tr>\n",
       "    <tr>\n",
       "      <th>2</th>\n",
       "      <td>Afghanistan</td>\n",
       "      <td>AFG</td>\n",
       "      <td>1951</td>\n",
       "      <td>0.012098</td>\n",
       "    </tr>\n",
       "    <tr>\n",
       "      <th>3</th>\n",
       "      <td>Afghanistan</td>\n",
       "      <td>AFG</td>\n",
       "      <td>1952</td>\n",
       "      <td>0.011946</td>\n",
       "    </tr>\n",
       "    <tr>\n",
       "      <th>4</th>\n",
       "      <td>Afghanistan</td>\n",
       "      <td>AFG</td>\n",
       "      <td>1953</td>\n",
       "      <td>0.013685</td>\n",
       "    </tr>\n",
       "    <tr>\n",
       "      <th>...</th>\n",
       "      <td>...</td>\n",
       "      <td>...</td>\n",
       "      <td>...</td>\n",
       "      <td>...</td>\n",
       "    </tr>\n",
       "    <tr>\n",
       "      <th>26595</th>\n",
       "      <td>Zimbabwe</td>\n",
       "      <td>ZWE</td>\n",
       "      <td>2018</td>\n",
       "      <td>0.711830</td>\n",
       "    </tr>\n",
       "    <tr>\n",
       "      <th>26596</th>\n",
       "      <td>Zimbabwe</td>\n",
       "      <td>ZWE</td>\n",
       "      <td>2019</td>\n",
       "      <td>0.636645</td>\n",
       "    </tr>\n",
       "    <tr>\n",
       "      <th>26597</th>\n",
       "      <td>Zimbabwe</td>\n",
       "      <td>ZWE</td>\n",
       "      <td>2020</td>\n",
       "      <td>0.500945</td>\n",
       "    </tr>\n",
       "    <tr>\n",
       "      <th>26598</th>\n",
       "      <td>Zimbabwe</td>\n",
       "      <td>ZWE</td>\n",
       "      <td>2021</td>\n",
       "      <td>0.524972</td>\n",
       "    </tr>\n",
       "    <tr>\n",
       "      <th>26599</th>\n",
       "      <td>Zimbabwe</td>\n",
       "      <td>ZWE</td>\n",
       "      <td>2022</td>\n",
       "      <td>0.542628</td>\n",
       "    </tr>\n",
       "  </tbody>\n",
       "</table>\n",
       "<p>26600 rows × 4 columns</p>\n",
       "</div>"
      ],
      "text/plain": [
       "            Entity Code  Year  Emisiones de CO2\n",
       "0      Afghanistan  AFG  1949          0.001992\n",
       "1      Afghanistan  AFG  1950          0.011266\n",
       "2      Afghanistan  AFG  1951          0.012098\n",
       "3      Afghanistan  AFG  1952          0.011946\n",
       "4      Afghanistan  AFG  1953          0.013685\n",
       "...            ...  ...   ...               ...\n",
       "26595     Zimbabwe  ZWE  2018          0.711830\n",
       "26596     Zimbabwe  ZWE  2019          0.636645\n",
       "26597     Zimbabwe  ZWE  2020          0.500945\n",
       "26598     Zimbabwe  ZWE  2021          0.524972\n",
       "26599     Zimbabwe  ZWE  2022          0.542628\n",
       "\n",
       "[26600 rows x 4 columns]"
      ]
     },
     "execution_count": 15,
     "metadata": {},
     "output_type": "execute_result"
    }
   ],
   "source": [
    "datos_csv.rename(columns={'Annual COâ emissions (per capita)': 'Emisiones de CO2'}, inplace=True)\n",
    "# Ahora la columna 'Unnamed: 5' se llama 'NuevaColumna'\n",
    "datos_csv"
   ]
  },
  {
   "cell_type": "code",
   "execution_count": 23,
   "id": "c2571fcd",
   "metadata": {},
   "outputs": [
    {
     "data": {
      "text/html": [
       "<div>\n",
       "<style scoped>\n",
       "    .dataframe tbody tr th:only-of-type {\n",
       "        vertical-align: middle;\n",
       "    }\n",
       "\n",
       "    .dataframe tbody tr th {\n",
       "        vertical-align: top;\n",
       "    }\n",
       "\n",
       "    .dataframe thead th {\n",
       "        text-align: right;\n",
       "    }\n",
       "</style>\n",
       "<table border=\"1\" class=\"dataframe\">\n",
       "  <thead>\n",
       "    <tr style=\"text-align: right;\">\n",
       "      <th></th>\n",
       "      <th>Entity</th>\n",
       "      <th>Code</th>\n",
       "      <th>Year</th>\n",
       "      <th>Emisiones de CO2</th>\n",
       "    </tr>\n",
       "  </thead>\n",
       "  <tbody>\n",
       "  </tbody>\n",
       "</table>\n",
       "</div>"
      ],
      "text/plain": [
       "Empty DataFrame\n",
       "Columns: [Entity, Code, Year, Emisiones de CO2]\n",
       "Index: []"
      ]
     },
     "execution_count": 23,
     "metadata": {},
     "output_type": "execute_result"
    }
   ],
   "source": [
    "#Procedemos a inspeccionar primero cuáles podrían ser esos datos repetidos.\n",
    "datos_csv[datos_csv.duplicated(subset = [\"Entity\", \"Year\", \"Emisiones de CO2\"],keep=False)].sort_values(\"Emisiones de CO2\")"
   ]
  },
  {
   "cell_type": "code",
   "execution_count": 25,
   "id": "6e5d869f",
   "metadata": {},
   "outputs": [
    {
     "data": {
      "text/html": [
       "<div>\n",
       "<style scoped>\n",
       "    .dataframe tbody tr th:only-of-type {\n",
       "        vertical-align: middle;\n",
       "    }\n",
       "\n",
       "    .dataframe tbody tr th {\n",
       "        vertical-align: top;\n",
       "    }\n",
       "\n",
       "    .dataframe thead th {\n",
       "        text-align: right;\n",
       "    }\n",
       "</style>\n",
       "<table border=\"1\" class=\"dataframe\">\n",
       "  <thead>\n",
       "    <tr style=\"text-align: right;\">\n",
       "      <th></th>\n",
       "      <th>Entity</th>\n",
       "      <th>Code</th>\n",
       "      <th>Year</th>\n",
       "      <th>Emisiones de CO2</th>\n",
       "    </tr>\n",
       "  </thead>\n",
       "  <tbody>\n",
       "    <tr>\n",
       "      <th>5098</th>\n",
       "      <td>Chile</td>\n",
       "      <td>CHL</td>\n",
       "      <td>1895</td>\n",
       "      <td>0.178420</td>\n",
       "    </tr>\n",
       "    <tr>\n",
       "      <th>5099</th>\n",
       "      <td>Chile</td>\n",
       "      <td>CHL</td>\n",
       "      <td>1896</td>\n",
       "      <td>0.179661</td>\n",
       "    </tr>\n",
       "    <tr>\n",
       "      <th>5100</th>\n",
       "      <td>Chile</td>\n",
       "      <td>CHL</td>\n",
       "      <td>1897</td>\n",
       "      <td>0.211175</td>\n",
       "    </tr>\n",
       "    <tr>\n",
       "      <th>5101</th>\n",
       "      <td>Chile</td>\n",
       "      <td>CHL</td>\n",
       "      <td>1898</td>\n",
       "      <td>0.241790</td>\n",
       "    </tr>\n",
       "    <tr>\n",
       "      <th>5102</th>\n",
       "      <td>Chile</td>\n",
       "      <td>CHL</td>\n",
       "      <td>1899</td>\n",
       "      <td>0.204284</td>\n",
       "    </tr>\n",
       "    <tr>\n",
       "      <th>...</th>\n",
       "      <td>...</td>\n",
       "      <td>...</td>\n",
       "      <td>...</td>\n",
       "      <td>...</td>\n",
       "    </tr>\n",
       "    <tr>\n",
       "      <th>5221</th>\n",
       "      <td>Chile</td>\n",
       "      <td>CHL</td>\n",
       "      <td>2018</td>\n",
       "      <td>4.515097</td>\n",
       "    </tr>\n",
       "    <tr>\n",
       "      <th>5222</th>\n",
       "      <td>Chile</td>\n",
       "      <td>CHL</td>\n",
       "      <td>2019</td>\n",
       "      <td>4.830861</td>\n",
       "    </tr>\n",
       "    <tr>\n",
       "      <th>5223</th>\n",
       "      <td>Chile</td>\n",
       "      <td>CHL</td>\n",
       "      <td>2020</td>\n",
       "      <td>4.154240</td>\n",
       "    </tr>\n",
       "    <tr>\n",
       "      <th>5224</th>\n",
       "      <td>Chile</td>\n",
       "      <td>CHL</td>\n",
       "      <td>2021</td>\n",
       "      <td>4.567579</td>\n",
       "    </tr>\n",
       "    <tr>\n",
       "      <th>5225</th>\n",
       "      <td>Chile</td>\n",
       "      <td>CHL</td>\n",
       "      <td>2022</td>\n",
       "      <td>4.304165</td>\n",
       "    </tr>\n",
       "  </tbody>\n",
       "</table>\n",
       "<p>128 rows × 4 columns</p>\n",
       "</div>"
      ],
      "text/plain": [
       "     Entity Code  Year  Emisiones de CO2\n",
       "5098  Chile  CHL  1895          0.178420\n",
       "5099  Chile  CHL  1896          0.179661\n",
       "5100  Chile  CHL  1897          0.211175\n",
       "5101  Chile  CHL  1898          0.241790\n",
       "5102  Chile  CHL  1899          0.204284\n",
       "...     ...  ...   ...               ...\n",
       "5221  Chile  CHL  2018          4.515097\n",
       "5222  Chile  CHL  2019          4.830861\n",
       "5223  Chile  CHL  2020          4.154240\n",
       "5224  Chile  CHL  2021          4.567579\n",
       "5225  Chile  CHL  2022          4.304165\n",
       "\n",
       "[128 rows x 4 columns]"
      ]
     },
     "execution_count": 25,
     "metadata": {},
     "output_type": "execute_result"
    }
   ],
   "source": [
    "pais_buscado = \"Chile\"  # Por ejemplo, aquí buscamos \"United States\"\n",
    "\n",
    "# Filtrar el conjunto de datos para el país buscado\n",
    "datos_pais_buscado = datos_csv[datos_csv['Entity'] == pais_buscado]\n",
    "\n",
    "# Mostrar los datos del país buscado\n",
    "datos_pais_buscado"
   ]
  },
  {
   "cell_type": "code",
   "execution_count": 26,
   "id": "cec42d1f",
   "metadata": {},
   "outputs": [
    {
     "data": {
      "text/plain": [
       "Entity              category\n",
       "Code                  object\n",
       "Year                   int64\n",
       "Emisiones de CO2     float64\n",
       "dtype: object"
      ]
     },
     "execution_count": 26,
     "metadata": {},
     "output_type": "execute_result"
    }
   ],
   "source": [
    "#Primero debemos cambiar el tipo de dato a un tipo categórico para que la función logre entender la transformación\n",
    "datos_csv['Entity'] = datos_csv['Entity'].astype('category')\n",
    "datos_csv.dtypes"
   ]
  },
  {
   "cell_type": "code",
   "execution_count": 33,
   "id": "2e301e9c",
   "metadata": {},
   "outputs": [
    {
     "name": "stdout",
     "output_type": "stream",
     "text": [
      "(128, 4)\n"
     ]
    },
    {
     "data": {
      "text/html": [
       "<div>\n",
       "<style scoped>\n",
       "    .dataframe tbody tr th:only-of-type {\n",
       "        vertical-align: middle;\n",
       "    }\n",
       "\n",
       "    .dataframe tbody tr th {\n",
       "        vertical-align: top;\n",
       "    }\n",
       "\n",
       "    .dataframe thead th {\n",
       "        text-align: right;\n",
       "    }\n",
       "</style>\n",
       "<table border=\"1\" class=\"dataframe\">\n",
       "  <thead>\n",
       "    <tr style=\"text-align: right;\">\n",
       "      <th></th>\n",
       "      <th>Entity</th>\n",
       "      <th>Code</th>\n",
       "      <th>Year</th>\n",
       "      <th>Emisiones de CO2</th>\n",
       "    </tr>\n",
       "  </thead>\n",
       "  <tbody>\n",
       "    <tr>\n",
       "      <th>5098</th>\n",
       "      <td>Chile</td>\n",
       "      <td>CHL</td>\n",
       "      <td>1895</td>\n",
       "      <td>0.178420</td>\n",
       "    </tr>\n",
       "    <tr>\n",
       "      <th>5099</th>\n",
       "      <td>Chile</td>\n",
       "      <td>CHL</td>\n",
       "      <td>1896</td>\n",
       "      <td>0.179661</td>\n",
       "    </tr>\n",
       "    <tr>\n",
       "      <th>5100</th>\n",
       "      <td>Chile</td>\n",
       "      <td>CHL</td>\n",
       "      <td>1897</td>\n",
       "      <td>0.211175</td>\n",
       "    </tr>\n",
       "    <tr>\n",
       "      <th>5101</th>\n",
       "      <td>Chile</td>\n",
       "      <td>CHL</td>\n",
       "      <td>1898</td>\n",
       "      <td>0.241790</td>\n",
       "    </tr>\n",
       "    <tr>\n",
       "      <th>5102</th>\n",
       "      <td>Chile</td>\n",
       "      <td>CHL</td>\n",
       "      <td>1899</td>\n",
       "      <td>0.204284</td>\n",
       "    </tr>\n",
       "  </tbody>\n",
       "</table>\n",
       "</div>"
      ],
      "text/plain": [
       "     Entity Code  Year  Emisiones de CO2\n",
       "5098  Chile  CHL  1895          0.178420\n",
       "5099  Chile  CHL  1896          0.179661\n",
       "5100  Chile  CHL  1897          0.211175\n",
       "5101  Chile  CHL  1898          0.241790\n",
       "5102  Chile  CHL  1899          0.204284"
      ]
     },
     "execution_count": 33,
     "metadata": {},
     "output_type": "execute_result"
    }
   ],
   "source": [
    "df = datos_csv\n",
    "print(df.shape)\n",
    "df.head()"
   ]
  },
  {
   "cell_type": "code",
   "execution_count": 36,
   "id": "8e163158",
   "metadata": {},
   "outputs": [
    {
     "data": {
      "image/png": "[encoded data removed]",
      "text/plain": [
       "<Figure size 640x480 with 1 Axes>"
      ]
     },
     "metadata": {},
     "output_type": "display_data"
    }
   ],
   "source": [
    "import matplotlib.pyplot as plt\n",
    "from sklearn.model_selection import train_test_split\n",
    "from sklearn import linear_model\n",
    "\n",
    "# Filtrar el DataFrame para obtener solo los datos de Chile\n",
    "\n",
    "chile_df = df[df['Entity'] == 'Chile']\n",
    "# Crear la gráfica lineal\n",
    "\n",
    "plt.plot(chile_df['Year'], chile_df['Emisiones de CO2'], marker='o')  # 'o' es para marcar cada punto\n",
    "plt.xlabel('Año')\n",
    "plt.ylabel('Emisiones de CO2')\n",
    "plt.title('Gráfico lineal de las emisiones de CO2 en Chile por año')\n",
    "plt.grid(True)  # Añadir una cuadrícula para una mejor visualización\n",
    "plt.show()\n"
   ]
  },
  {
   "cell_type": "code",
   "execution_count": null,
   "id": "5bd41119",
   "metadata": {},
   "outputs": [],
   "source": []
  },
  {
   "cell_type": "code",
   "execution_count": null,
   "id": "c9fe66bf",
   "metadata": {},
   "outputs": [],
   "source": []
  }
 ],
 "metadata": {
  "kernelspec": {
   "display_name": "Python 3 (ipykernel)",
   "language": "python",
   "name": "python3"
  },
  "language_info": {
   "codemirror_mode": {
    "name": "ipython",
    "version": 3
   },
   "file_extension": ".py",
   "mimetype": "text/x-python",
   "name": "python",
   "nbconvert_exporter": "python",
   "pygments_lexer": "ipython3",
   "version": "3.11.7"
  }
 },
 "nbformat": 4,
 "nbformat_minor": 5
}
